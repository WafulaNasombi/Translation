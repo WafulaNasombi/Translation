{
 "cells": [
  {
   "cell_type": "code",
   "execution_count": 1,
   "metadata": {},
   "outputs": [
    {
     "name": "stdout",
     "output_type": "stream",
     "text": [
      "Requirement already satisfied: transformers in /home/dell/.local/lib/python3.8/site-packages (4.38.2)\n",
      "Requirement already satisfied: safetensors>=0.4.1 in /home/dell/.local/lib/python3.8/site-packages (from transformers) (0.4.2)\n",
      "Requirement already satisfied: requests in /usr/lib/python3/dist-packages (from transformers) (2.22.0)\n",
      "Requirement already satisfied: regex!=2019.12.17 in /home/dell/.local/lib/python3.8/site-packages (from transformers) (2023.12.25)\n",
      "Requirement already satisfied: filelock in /home/dell/.local/lib/python3.8/site-packages (from transformers) (3.13.1)\n",
      "Requirement already satisfied: numpy>=1.17 in /home/dell/.local/lib/python3.8/site-packages (from transformers) (1.24.4)\n",
      "Requirement already satisfied: tqdm>=4.27 in /home/dell/.local/lib/python3.8/site-packages (from transformers) (4.66.1)\n",
      "Requirement already satisfied: packaging>=20.0 in /usr/lib/python3/dist-packages (from transformers) (20.3)\n",
      "Requirement already satisfied: pyyaml>=5.1 in /usr/lib/python3/dist-packages (from transformers) (5.3.1)\n",
      "Requirement already satisfied: tokenizers<0.19,>=0.14 in /home/dell/.local/lib/python3.8/site-packages (from transformers) (0.15.2)\n",
      "Requirement already satisfied: huggingface-hub<1.0,>=0.19.3 in /home/dell/.local/lib/python3.8/site-packages (from transformers) (0.21.4)\n",
      "Requirement already satisfied: typing-extensions>=3.7.4.3 in /home/dell/.local/lib/python3.8/site-packages (from huggingface-hub<1.0,>=0.19.3->transformers) (4.10.0)\n",
      "Requirement already satisfied: fsspec>=2023.5.0 in /home/dell/.local/lib/python3.8/site-packages (from huggingface-hub<1.0,>=0.19.3->transformers) (2024.3.1)\n",
      "Requirement already satisfied: torch in /home/dell/.local/lib/python3.8/site-packages (2.2.1)\n",
      "Requirement already satisfied: triton==2.2.0; platform_system == \"Linux\" and platform_machine == \"x86_64\" and python_version < \"3.12\" in /home/dell/.local/lib/python3.8/site-packages (from torch) (2.2.0)\n",
      "Requirement already satisfied: nvidia-nvtx-cu12==12.1.105; platform_system == \"Linux\" and platform_machine == \"x86_64\" in /home/dell/.local/lib/python3.8/site-packages (from torch) (12.1.105)\n",
      "Requirement already satisfied: nvidia-cusparse-cu12==12.1.0.106; platform_system == \"Linux\" and platform_machine == \"x86_64\" in /home/dell/.local/lib/python3.8/site-packages (from torch) (12.1.0.106)\n",
      "Requirement already satisfied: nvidia-cufft-cu12==11.0.2.54; platform_system == \"Linux\" and platform_machine == \"x86_64\" in /home/dell/.local/lib/python3.8/site-packages (from torch) (11.0.2.54)\n",
      "Requirement already satisfied: nvidia-cudnn-cu12==8.9.2.26; platform_system == \"Linux\" and platform_machine == \"x86_64\" in /home/dell/.local/lib/python3.8/site-packages (from torch) (8.9.2.26)\n",
      "Requirement already satisfied: nvidia-curand-cu12==10.3.2.106; platform_system == \"Linux\" and platform_machine == \"x86_64\" in /home/dell/.local/lib/python3.8/site-packages (from torch) (10.3.2.106)\n",
      "Requirement already satisfied: nvidia-cuda-nvrtc-cu12==12.1.105; platform_system == \"Linux\" and platform_machine == \"x86_64\" in /home/dell/.local/lib/python3.8/site-packages (from torch) (12.1.105)\n",
      "Requirement already satisfied: nvidia-nccl-cu12==2.19.3; platform_system == \"Linux\" and platform_machine == \"x86_64\" in /home/dell/.local/lib/python3.8/site-packages (from torch) (2.19.3)\n",
      "Requirement already satisfied: nvidia-cuda-runtime-cu12==12.1.105; platform_system == \"Linux\" and platform_machine == \"x86_64\" in /home/dell/.local/lib/python3.8/site-packages (from torch) (12.1.105)\n",
      "Requirement already satisfied: jinja2 in /home/dell/.local/lib/python3.8/site-packages (from torch) (3.1.3)\n",
      "Requirement already satisfied: nvidia-cublas-cu12==12.1.3.1; platform_system == \"Linux\" and platform_machine == \"x86_64\" in /home/dell/.local/lib/python3.8/site-packages (from torch) (12.1.3.1)\n",
      "Requirement already satisfied: typing-extensions>=4.8.0 in /home/dell/.local/lib/python3.8/site-packages (from torch) (4.10.0)\n",
      "Requirement already satisfied: networkx in /home/dell/.local/lib/python3.8/site-packages (from torch) (3.1)\n",
      "Requirement already satisfied: nvidia-cusolver-cu12==11.4.5.107; platform_system == \"Linux\" and platform_machine == \"x86_64\" in /home/dell/.local/lib/python3.8/site-packages (from torch) (11.4.5.107)\n",
      "Requirement already satisfied: sympy in /home/dell/.local/lib/python3.8/site-packages (from torch) (1.12)\n",
      "Requirement already satisfied: fsspec in /home/dell/.local/lib/python3.8/site-packages (from torch) (2024.3.1)\n",
      "Requirement already satisfied: filelock in /home/dell/.local/lib/python3.8/site-packages (from torch) (3.13.1)\n",
      "Requirement already satisfied: nvidia-cuda-cupti-cu12==12.1.105; platform_system == \"Linux\" and platform_machine == \"x86_64\" in /home/dell/.local/lib/python3.8/site-packages (from torch) (12.1.105)\n",
      "Requirement already satisfied: nvidia-nvjitlink-cu12 in /home/dell/.local/lib/python3.8/site-packages (from nvidia-cusparse-cu12==12.1.0.106; platform_system == \"Linux\" and platform_machine == \"x86_64\"->torch) (12.4.99)\n",
      "Requirement already satisfied: MarkupSafe>=2.0 in /home/dell/.local/lib/python3.8/site-packages (from jinja2->torch) (2.1.5)\n",
      "Requirement already satisfied: mpmath>=0.19 in /home/dell/.local/lib/python3.8/site-packages (from sympy->torch) (1.3.0)\n",
      "Requirement already satisfied: sentencepiece in /home/dell/.local/lib/python3.8/site-packages (0.2.0)\n",
      "Requirement already satisfied: sacremoses in /home/dell/.local/lib/python3.8/site-packages (0.1.1)\n",
      "Requirement already satisfied: joblib in /home/dell/.local/lib/python3.8/site-packages (from sacremoses) (1.3.2)\n",
      "Requirement already satisfied: regex in /home/dell/.local/lib/python3.8/site-packages (from sacremoses) (2023.12.25)\n",
      "Requirement already satisfied: tqdm in /home/dell/.local/lib/python3.8/site-packages (from sacremoses) (4.66.1)\n",
      "Requirement already satisfied: click in /home/dell/.local/lib/python3.8/site-packages (from sacremoses) (8.1.7)\n"
     ]
    }
   ],
   "source": [
    "# Packages that you will need to install\n",
    "!pip install transformers\n",
    "!pip install torch\n",
    "!pip install sentencepiece\n",
    "!pip install sacremoses"
   ]
  },
  {
   "cell_type": "code",
   "execution_count": 2,
   "metadata": {},
   "outputs": [
    {
     "name": "stderr",
     "output_type": "stream",
     "text": [
      "/home/dell/.local/lib/python3.8/site-packages/tqdm/auto.py:21: TqdmWarning: IProgress not found. Please update jupyter and ipywidgets. See https://ipywidgets.readthedocs.io/en/stable/user_install.html\n",
      "  from .autonotebook import tqdm as notebook_tqdm\n"
     ]
    }
   ],
   "source": [
    "import pandas as pd\n",
    "from transformers import MarianMTModel, MarianTokenizer\n",
    "from torch.utils.data import DataLoader\n",
    "import torch\n",
    "from torch.utils.data import DataLoader, Dataset"
   ]
  },
  {
   "cell_type": "code",
   "execution_count": 3,
   "metadata": {},
   "outputs": [
    {
     "data": {
      "text/html": [
       "<div>\n",
       "<style scoped>\n",
       "    .dataframe tbody tr th:only-of-type {\n",
       "        vertical-align: middle;\n",
       "    }\n",
       "\n",
       "    .dataframe tbody tr th {\n",
       "        vertical-align: top;\n",
       "    }\n",
       "\n",
       "    .dataframe thead th {\n",
       "        text-align: right;\n",
       "    }\n",
       "</style>\n",
       "<table border=\"1\" class=\"dataframe\">\n",
       "  <thead>\n",
       "    <tr style=\"text-align: right;\">\n",
       "      <th></th>\n",
       "      <th>Luo Content</th>\n",
       "      <th>English Content</th>\n",
       "    </tr>\n",
       "  </thead>\n",
       "  <tbody>\n",
       "    <tr>\n",
       "      <th>0</th>\n",
       "      <td>Jaode niluongo ni Maaka,</td>\n",
       "      <td>And the name of his wife [was] Maacah.</td>\n",
       "    </tr>\n",
       "    <tr>\n",
       "      <th>1</th>\n",
       "      <td>Giil odiechiengʼ duto nikech nyingi; gidhialo ...</td>\n",
       "      <td>In thy name shall they rejoice all the day, an...</td>\n",
       "    </tr>\n",
       "    <tr>\n",
       "      <th>2</th>\n",
       "      <td>Anakech ngʼama adwaro kecho kendo anangʼwon-ne...</td>\n",
       "      <td>Truly, I am the Oft-Forgiving, the Most Mercif...</td>\n",
       "    </tr>\n",
       "    <tr>\n",
       "      <th>3</th>\n",
       "      <td>Negie kaka luoro dwaro negogi, nikech Nyasaye ...</td>\n",
       "      <td>But they will be overwhelmed with dread, for G...</td>\n",
       "    </tr>\n",
       "    <tr>\n",
       "      <th>4</th>\n",
       "      <td>kama gichokoree (Jonjore).</td>\n",
       "      <td>and gathered at one place.</td>\n",
       "    </tr>\n",
       "    <tr>\n",
       "      <th>...</th>\n",
       "      <td>...</td>\n",
       "      <td>...</td>\n",
       "    </tr>\n",
       "    <tr>\n",
       "      <th>2825276</th>\n",
       "      <td>Tachi waza kata dori dai ikkyo omote</td>\n",
       "      <td>baking a pie or loaf of bread</td>\n",
       "    </tr>\n",
       "    <tr>\n",
       "      <th>2825277</th>\n",
       "      <td>kore kuom weche modonjnego.</td>\n",
       "      <td>be set on the response.</td>\n",
       "    </tr>\n",
       "    <tr>\n",
       "      <th>2825278</th>\n",
       "      <td>giluwe ka giwuotho gi tiendegi.</td>\n",
       "      <td>by following in His footsteps.</td>\n",
       "    </tr>\n",
       "    <tr>\n",
       "      <th>2825279</th>\n",
       "      <td>Kik Me - Legs Pics Kik User Me Date Ing</td>\n",
       "      <td>don't let me down - the chainsmokers ft. daya</td>\n",
       "    </tr>\n",
       "    <tr>\n",
       "      <th>2825280</th>\n",
       "      <td>kendo umor?  -wamor!</td>\n",
       "      <td>you're happy. - Very good.</td>\n",
       "    </tr>\n",
       "  </tbody>\n",
       "</table>\n",
       "<p>2825281 rows × 2 columns</p>\n",
       "</div>"
      ],
      "text/plain": [
       "                                               Luo Content  \\\n",
       "0                                 Jaode niluongo ni Maaka,   \n",
       "1        Giil odiechiengʼ duto nikech nyingi; gidhialo ...   \n",
       "2        Anakech ngʼama adwaro kecho kendo anangʼwon-ne...   \n",
       "3        Negie kaka luoro dwaro negogi, nikech Nyasaye ...   \n",
       "4                               kama gichokoree (Jonjore).   \n",
       "...                                                    ...   \n",
       "2825276               Tachi waza kata dori dai ikkyo omote   \n",
       "2825277                        kore kuom weche modonjnego.   \n",
       "2825278                    giluwe ka giwuotho gi tiendegi.   \n",
       "2825279            Kik Me - Legs Pics Kik User Me Date Ing   \n",
       "2825280                               kendo umor?  -wamor!   \n",
       "\n",
       "                                           English Content  \n",
       "0                   And the name of his wife [was] Maacah.  \n",
       "1        In thy name shall they rejoice all the day, an...  \n",
       "2        Truly, I am the Oft-Forgiving, the Most Mercif...  \n",
       "3        But they will be overwhelmed with dread, for G...  \n",
       "4                               and gathered at one place.  \n",
       "...                                                    ...  \n",
       "2825276                      baking a pie or loaf of bread  \n",
       "2825277                            be set on the response.  \n",
       "2825278                     by following in His footsteps.  \n",
       "2825279      don't let me down - the chainsmokers ft. daya  \n",
       "2825280                         you're happy. - Very good.  \n",
       "\n",
       "[2825281 rows x 2 columns]"
      ]
     },
     "metadata": {},
     "output_type": "display_data"
    }
   ],
   "source": [
    "df = pd.read_csv('Luo-Eng.csv')\n",
    "display(df)"
   ]
  },
  {
   "cell_type": "code",
   "execution_count": 7,
   "metadata": {},
   "outputs": [
    {
     "data": {
      "text/html": [
       "<div>\n",
       "<style scoped>\n",
       "    .dataframe tbody tr th:only-of-type {\n",
       "        vertical-align: middle;\n",
       "    }\n",
       "\n",
       "    .dataframe tbody tr th {\n",
       "        vertical-align: top;\n",
       "    }\n",
       "\n",
       "    .dataframe thead th {\n",
       "        text-align: right;\n",
       "    }\n",
       "</style>\n",
       "<table border=\"1\" class=\"dataframe\">\n",
       "  <thead>\n",
       "    <tr style=\"text-align: right;\">\n",
       "      <th></th>\n",
       "      <th>Luo Content</th>\n",
       "      <th>English Content</th>\n",
       "    </tr>\n",
       "  </thead>\n",
       "  <tbody>\n",
       "    <tr>\n",
       "      <th>0</th>\n",
       "      <td>Jaode niluongo ni Maaka,</td>\n",
       "      <td>And the name of his wife [was] Maacah.</td>\n",
       "    </tr>\n",
       "    <tr>\n",
       "      <th>1</th>\n",
       "      <td>Giil odiechiengʼ duto nikech nyingi; gidhialo ...</td>\n",
       "      <td>In thy name shall they rejoice all the day, an...</td>\n",
       "    </tr>\n",
       "    <tr>\n",
       "      <th>2</th>\n",
       "      <td>Anakech ngʼama adwaro kecho kendo anangʼwon-ne...</td>\n",
       "      <td>Truly, I am the Oft-Forgiving, the Most Mercif...</td>\n",
       "    </tr>\n",
       "    <tr>\n",
       "      <th>3</th>\n",
       "      <td>Negie kaka luoro dwaro negogi, nikech Nyasaye ...</td>\n",
       "      <td>But they will be overwhelmed with dread, for G...</td>\n",
       "    </tr>\n",
       "    <tr>\n",
       "      <th>4</th>\n",
       "      <td>kama gichokoree (Jonjore).</td>\n",
       "      <td>and gathered at one place.</td>\n",
       "    </tr>\n",
       "    <tr>\n",
       "      <th>...</th>\n",
       "      <td>...</td>\n",
       "      <td>...</td>\n",
       "    </tr>\n",
       "    <tr>\n",
       "      <th>2013</th>\n",
       "      <td>(rwako) e chunygi.</td>\n",
       "      <td>Inside their hearts.</td>\n",
       "    </tr>\n",
       "    <tr>\n",
       "      <th>2014</th>\n",
       "      <td>God Be Great and God Be Wise</td>\n",
       "      <td>God is so good and so wise.</td>\n",
       "    </tr>\n",
       "    <tr>\n",
       "      <th>2015</th>\n",
       "      <td>Kadi bed gin mo keken otimme i kwowa, pud watw...</td>\n",
       "      <td>No matter what happens in our lives we can be ...</td>\n",
       "    </tr>\n",
       "    <tr>\n",
       "      <th>2016</th>\n",
       "      <td>Mano e chier mokwongo.</td>\n",
       "      <td>this is the First Resurrection.</td>\n",
       "    </tr>\n",
       "    <tr>\n",
       "      <th>2017</th>\n",
       "      <td>16omiyo pe akeŋ pwoyo Lubaŋa piwu, kun alwoŋo ...</td>\n",
       "      <td>I have not stopped giving thanks FOR YOU, reme...</td>\n",
       "    </tr>\n",
       "  </tbody>\n",
       "</table>\n",
       "<p>2018 rows × 2 columns</p>\n",
       "</div>"
      ],
      "text/plain": [
       "                                            Luo Content  \\\n",
       "0                              Jaode niluongo ni Maaka,   \n",
       "1     Giil odiechiengʼ duto nikech nyingi; gidhialo ...   \n",
       "2     Anakech ngʼama adwaro kecho kendo anangʼwon-ne...   \n",
       "3     Negie kaka luoro dwaro negogi, nikech Nyasaye ...   \n",
       "4                            kama gichokoree (Jonjore).   \n",
       "...                                                 ...   \n",
       "2013                                 (rwako) e chunygi.   \n",
       "2014                       God Be Great and God Be Wise   \n",
       "2015  Kadi bed gin mo keken otimme i kwowa, pud watw...   \n",
       "2016                             Mano e chier mokwongo.   \n",
       "2017  16omiyo pe akeŋ pwoyo Lubaŋa piwu, kun alwoŋo ...   \n",
       "\n",
       "                                        English Content  \n",
       "0                And the name of his wife [was] Maacah.  \n",
       "1     In thy name shall they rejoice all the day, an...  \n",
       "2     Truly, I am the Oft-Forgiving, the Most Mercif...  \n",
       "3     But they will be overwhelmed with dread, for G...  \n",
       "4                            and gathered at one place.  \n",
       "...                                                 ...  \n",
       "2013                               Inside their hearts.  \n",
       "2014                        God is so good and so wise.  \n",
       "2015  No matter what happens in our lives we can be ...  \n",
       "2016                    this is the First Resurrection.  \n",
       "2017  I have not stopped giving thanks FOR YOU, reme...  \n",
       "\n",
       "[2018 rows x 2 columns]"
      ]
     },
     "metadata": {},
     "output_type": "display_data"
    }
   ],
   "source": [
    "total_rows = len(df)\n",
    "chunk_size = total_rows // 1400\n",
    "\n",
    "chunks = [df.iloc[i * chunk_size:(i + 1) * chunk_size] for i in range(100)]\n",
    "\n",
    "# Name of the chunk we are to use\n",
    "working = chunks[0]\n",
    "display(working)"
   ]
  },
  {
   "cell_type": "code",
   "execution_count": 8,
   "metadata": {},
   "outputs": [
    {
     "data": {
      "text/plain": [
       "{'input_ids': tensor([[19414,    16,  6288,  ..., 52235, 52235, 52235],\n",
       "        [ 1701,  6071,   826,  ..., 52235, 52235, 52235],\n",
       "        [39655,    38, 18178,  ..., 52235, 52235, 52235],\n",
       "        ...,\n",
       "        [  101,  9030,   362,  ..., 52235, 52235, 52235],\n",
       "        [  223,     9,  1210,  ..., 52235, 52235, 52235],\n",
       "        [  382, 19237,  8636,  ..., 52235, 52235, 52235]]), 'attention_mask': tensor([[1, 1, 1,  ..., 0, 0, 0],\n",
       "        [1, 1, 1,  ..., 0, 0, 0],\n",
       "        [1, 1, 1,  ..., 0, 0, 0],\n",
       "        ...,\n",
       "        [1, 1, 1,  ..., 0, 0, 0],\n",
       "        [1, 1, 1,  ..., 0, 0, 0],\n",
       "        [1, 1, 1,  ..., 0, 0, 0]]), 'labels': tensor([[  414,     5,   420,  ..., 52235, 52235, 52235],\n",
       "        [  134,  6347,   650,  ..., 52235, 52235, 52235],\n",
       "        [ 7400,     3,    47,  ..., 52235, 52235, 52235],\n",
       "        ...,\n",
       "        [  538,   965,    86,  ..., 52235, 52235, 52235],\n",
       "        [  108,    29,     5,  ..., 52235, 52235, 52235],\n",
       "        [   47,    56,    50,  ..., 52235, 52235, 52235]])}"
      ]
     },
     "metadata": {},
     "output_type": "display_data"
    }
   ],
   "source": [
    "tokenizer = MarianTokenizer.from_pretrained(\"Helsinki-NLP/opus-mt-luo-en\")\n",
    "\n",
    "# Tokenize the data with padding and truncation\n",
    "tokenized_data = tokenizer(\n",
    "    working['Luo Content'].tolist(),\n",
    "    text_target=working['English Content'].tolist(),\n",
    "    padding=True,\n",
    "    truncation=True,\n",
    "    return_tensors=\"pt\"\n",
    ")\n",
    "display(tokenized_data)"
   ]
  },
  {
   "cell_type": "code",
   "execution_count": 9,
   "metadata": {},
   "outputs": [],
   "source": [
    "class CustomDataset(Dataset):\n",
    "    def __init__(self, tokenized_data):\n",
    "        self.tokenized_data = tokenized_data\n",
    "\n",
    "    def __len__(self):\n",
    "        return len(self.tokenized_data[\"input_ids\"])\n",
    "\n",
    "    def __getitem__(self, idx):\n",
    "        return {\n",
    "            \"input_ids\": self.tokenized_data[\"input_ids\"][idx],\n",
    "            \"attention_mask\": self.tokenized_data[\"attention_mask\"][idx],\n",
    "            \"labels\": self.tokenized_data[\"labels\"][idx],\n",
    "        }"
   ]
  },
  {
   "cell_type": "code",
   "execution_count": 10,
   "metadata": {},
   "outputs": [
    {
     "name": "stdout",
     "output_type": "stream",
     "text": [
      "Epoch 1: Average Loss - 1.0532041636144691\n",
      "Epoch 2: Average Loss - 0.49017216606809216\n",
      "Epoch 3: Average Loss - 0.3463274550885551\n",
      "Epoch 4: Average Loss - 0.25121456811668375\n",
      "Epoch 5: Average Loss - 0.18753307881091424\n"
     ]
    }
   ],
   "source": [
    "dataset = CustomDataset(tokenized_data)\n",
    "\n",
    "model = MarianMTModel.from_pretrained(\"Helsinki-NLP/opus-mt-luo-en\")\n",
    "\n",
    "# Training parameters\n",
    "learning_rate = 1e-4\n",
    "optimizer = torch.optim.AdamW(model.parameters(), lr=learning_rate)\n",
    "epochs = 5\n",
    "\n",
    "# DataLoader for training\n",
    "train_loader = DataLoader(dataset, batch_size=8, shuffle=True)\n",
    "\n",
    "# Define the training loop\n",
    "for epoch in range(epochs):\n",
    "    model.train()\n",
    "    total_loss = 0\n",
    "    for batch in train_loader:\n",
    "        optimizer.zero_grad()\n",
    "        outputs = model(**batch)\n",
    "        loss = outputs.loss\n",
    "        loss.backward()\n",
    "        optimizer.step()\n",
    "        total_loss += loss.item()\n",
    "    average_loss = total_loss / len(train_loader)\n",
    "    print(f\"Epoch {epoch+1}: Average Loss - {average_loss}\")\n"
   ]
  },
  {
   "cell_type": "code",
   "execution_count": 18,
   "metadata": {},
   "outputs": [
    {
     "name": "stdout",
     "output_type": "stream",
     "text": [
      "Input Sentence (Luo): mokwongo\n",
      "Translated Sentence (English): First of all,\n"
     ]
    }
   ],
   "source": [
    "# Check the model's translation\n",
    "input_sentence = \"mokwongo\"  \n",
    "tokenized_input = tokenizer(input_sentence, return_tensors=\"pt\")\n",
    "with torch.no_grad():\n",
    "    model.eval()\n",
    "    output = model.generate(**tokenized_input, max_length=50)\n",
    "translated_sentence = tokenizer.decode(output[0], skip_special_tokens=True)\n",
    "print(f\"Input Sentence (Luo): {input_sentence}\")\n",
    "print(f\"Translated Sentence (English): {translated_sentence}\")"
   ]
  },
  {
   "cell_type": "code",
   "execution_count": 19,
   "metadata": {},
   "outputs": [
    {
     "name": "stderr",
     "output_type": "stream",
     "text": [
      "Some non-default generation parameters are set in the model config. These should go into a GenerationConfig file (https://huggingface.co/docs/transformers/generation_strategies#save-a-custom-decoding-strategy-with-your-model) instead. This warning will be raised to an exception in v4.41.\n",
      "Non-default generation parameters: {'max_length': 512, 'num_beams': 6, 'bad_words_ids': [[52235]], 'forced_eos_token_id': 0}\n"
     ]
    }
   ],
   "source": [
    "import os\n",
    "\n",
    "# Get the current working directory\n",
    "current_directory = os.getcwd()\n",
    "\n",
    "# Define the path to save the model\n",
    "save_path = os.path.join(current_directory, \"Luo2Eng-model\")\n",
    "\n",
    "# Save the trained model\n",
    "model.save_pretrained(save_path)\n"
   ]
  },
  {
   "cell_type": "code",
   "execution_count": null,
   "metadata": {},
   "outputs": [],
   "source": []
  }
 ],
 "metadata": {
  "kernelspec": {
   "display_name": "Python 3",
   "language": "python",
   "name": "python3"
  },
  "language_info": {
   "codemirror_mode": {
    "name": "ipython",
    "version": 3
   },
   "file_extension": ".py",
   "mimetype": "text/x-python",
   "name": "python",
   "nbconvert_exporter": "python",
   "pygments_lexer": "ipython3",
   "version": "3.8.10"
  }
 },
 "nbformat": 4,
 "nbformat_minor": 2
}
