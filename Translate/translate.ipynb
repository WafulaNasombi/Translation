{
 "cells": [
  {
   "cell_type": "code",
   "execution_count": 7,
   "metadata": {},
   "outputs": [
    {
     "name": "stdout",
     "output_type": "stream",
     "text": [
      "^C\n",
      "Traceback (most recent call last):\n",
      "  File \"/bin/pip\", line 6, in <module>\n",
      "    from pkg_resources import load_entry_point\n",
      "  File \"/usr/lib/python3/dist-packages/pkg_resources/__init__.py\", line 36, in <module>\n",
      "    import email.parser\n",
      "  File \"<frozen importlib._bootstrap>\", line 991, in _find_and_load\n",
      "  File \"<frozen importlib._bootstrap>\", line 975, in _find_and_load_unlocked\n",
      "  File \"<frozen importlib._bootstrap>\", line 671, in _load_unlocked\n",
      "  File \"<frozen importlib._bootstrap_external>\", line 844, in exec_module\n",
      "  File \"<frozen importlib._bootstrap_external>\", line 939, in get_code\n",
      "  File \"<frozen importlib._bootstrap_external>\", line 1037, in get_data\n",
      "KeyboardInterrupt\n"
     ]
    }
   ],
   "source": [
    "# Packages that you will need to install\n",
    "!pip install transformers\n",
    "!pip install torch\n",
    "!pip install sentencepiece\n",
    "!pip install sacremoses"
   ]
  },
  {
   "cell_type": "code",
   "execution_count": 1,
   "metadata": {},
   "outputs": [
    {
     "name": "stderr",
     "output_type": "stream",
     "text": [
      "/home/dell/.local/lib/python3.8/site-packages/tqdm/auto.py:21: TqdmWarning: IProgress not found. Please update jupyter and ipywidgets. See https://ipywidgets.readthedocs.io/en/stable/user_install.html\n",
      "  from .autonotebook import tqdm as notebook_tqdm\n"
     ]
    }
   ],
   "source": [
    "import pandas as pd\n",
    "from transformers import MarianMTModel, MarianTokenizer\n",
    "from torch.utils.data import DataLoader\n",
    "import torch\n",
    "from torch.utils.data import DataLoader, Dataset"
   ]
  },
  {
   "cell_type": "code",
   "execution_count": 2,
   "metadata": {},
   "outputs": [
    {
     "data": {
      "text/html": [
       "<div>\n",
       "<style scoped>\n",
       "    .dataframe tbody tr th:only-of-type {\n",
       "        vertical-align: middle;\n",
       "    }\n",
       "\n",
       "    .dataframe tbody tr th {\n",
       "        vertical-align: top;\n",
       "    }\n",
       "\n",
       "    .dataframe thead th {\n",
       "        text-align: right;\n",
       "    }\n",
       "</style>\n",
       "<table border=\"1\" class=\"dataframe\">\n",
       "  <thead>\n",
       "    <tr style=\"text-align: right;\">\n",
       "      <th></th>\n",
       "      <th>Luo Content</th>\n",
       "      <th>English Content</th>\n",
       "    </tr>\n",
       "  </thead>\n",
       "  <tbody>\n",
       "    <tr>\n",
       "      <th>0</th>\n",
       "      <td>Jaode niluongo ni Maaka,</td>\n",
       "      <td>And the name of his wife [was] Maacah.</td>\n",
       "    </tr>\n",
       "    <tr>\n",
       "      <th>1</th>\n",
       "      <td>Giil odiechiengʼ duto nikech nyingi; gidhialo ...</td>\n",
       "      <td>In thy name shall they rejoice all the day, an...</td>\n",
       "    </tr>\n",
       "    <tr>\n",
       "      <th>2</th>\n",
       "      <td>Anakech ngʼama adwaro kecho kendo anangʼwon-ne...</td>\n",
       "      <td>Truly, I am the Oft-Forgiving, the Most Mercif...</td>\n",
       "    </tr>\n",
       "    <tr>\n",
       "      <th>3</th>\n",
       "      <td>Negie kaka luoro dwaro negogi, nikech Nyasaye ...</td>\n",
       "      <td>But they will be overwhelmed with dread, for G...</td>\n",
       "    </tr>\n",
       "    <tr>\n",
       "      <th>4</th>\n",
       "      <td>kama gichokoree (Jonjore).</td>\n",
       "      <td>and gathered at one place.</td>\n",
       "    </tr>\n",
       "    <tr>\n",
       "      <th>...</th>\n",
       "      <td>...</td>\n",
       "      <td>...</td>\n",
       "    </tr>\n",
       "    <tr>\n",
       "      <th>2825276</th>\n",
       "      <td>Tachi waza kata dori dai ikkyo omote</td>\n",
       "      <td>baking a pie or loaf of bread</td>\n",
       "    </tr>\n",
       "    <tr>\n",
       "      <th>2825277</th>\n",
       "      <td>kore kuom weche modonjnego.</td>\n",
       "      <td>be set on the response.</td>\n",
       "    </tr>\n",
       "    <tr>\n",
       "      <th>2825278</th>\n",
       "      <td>giluwe ka giwuotho gi tiendegi.</td>\n",
       "      <td>by following in His footsteps.</td>\n",
       "    </tr>\n",
       "    <tr>\n",
       "      <th>2825279</th>\n",
       "      <td>Kik Me - Legs Pics Kik User Me Date Ing</td>\n",
       "      <td>don't let me down - the chainsmokers ft. daya</td>\n",
       "    </tr>\n",
       "    <tr>\n",
       "      <th>2825280</th>\n",
       "      <td>kendo umor?  -wamor!</td>\n",
       "      <td>you're happy. - Very good.</td>\n",
       "    </tr>\n",
       "  </tbody>\n",
       "</table>\n",
       "<p>2825281 rows × 2 columns</p>\n",
       "</div>"
      ],
      "text/plain": [
       "                                               Luo Content  \\\n",
       "0                                 Jaode niluongo ni Maaka,   \n",
       "1        Giil odiechiengʼ duto nikech nyingi; gidhialo ...   \n",
       "2        Anakech ngʼama adwaro kecho kendo anangʼwon-ne...   \n",
       "3        Negie kaka luoro dwaro negogi, nikech Nyasaye ...   \n",
       "4                               kama gichokoree (Jonjore).   \n",
       "...                                                    ...   \n",
       "2825276               Tachi waza kata dori dai ikkyo omote   \n",
       "2825277                        kore kuom weche modonjnego.   \n",
       "2825278                    giluwe ka giwuotho gi tiendegi.   \n",
       "2825279            Kik Me - Legs Pics Kik User Me Date Ing   \n",
       "2825280                               kendo umor?  -wamor!   \n",
       "\n",
       "                                           English Content  \n",
       "0                   And the name of his wife [was] Maacah.  \n",
       "1        In thy name shall they rejoice all the day, an...  \n",
       "2        Truly, I am the Oft-Forgiving, the Most Mercif...  \n",
       "3        But they will be overwhelmed with dread, for G...  \n",
       "4                               and gathered at one place.  \n",
       "...                                                    ...  \n",
       "2825276                      baking a pie or loaf of bread  \n",
       "2825277                            be set on the response.  \n",
       "2825278                     by following in His footsteps.  \n",
       "2825279      don't let me down - the chainsmokers ft. daya  \n",
       "2825280                         you're happy. - Very good.  \n",
       "\n",
       "[2825281 rows x 2 columns]"
      ]
     },
     "metadata": {},
     "output_type": "display_data"
    }
   ],
   "source": [
    "df = pd.read_csv('Luo-Eng.csv')\n",
    "display(df)"
   ]
  },
  {
   "cell_type": "code",
   "execution_count": 4,
   "metadata": {},
   "outputs": [
    {
     "data": {
      "text/html": [
       "<div>\n",
       "<style scoped>\n",
       "    .dataframe tbody tr th:only-of-type {\n",
       "        vertical-align: middle;\n",
       "    }\n",
       "\n",
       "    .dataframe tbody tr th {\n",
       "        vertical-align: top;\n",
       "    }\n",
       "\n",
       "    .dataframe thead th {\n",
       "        text-align: right;\n",
       "    }\n",
       "</style>\n",
       "<table border=\"1\" class=\"dataframe\">\n",
       "  <thead>\n",
       "    <tr style=\"text-align: right;\">\n",
       "      <th></th>\n",
       "      <th>Luo Content</th>\n",
       "      <th>English Content</th>\n",
       "    </tr>\n",
       "  </thead>\n",
       "  <tbody>\n",
       "    <tr>\n",
       "      <th>0</th>\n",
       "      <td>Jaode niluongo ni Maaka,</td>\n",
       "      <td>And the name of his wife [was] Maacah.</td>\n",
       "    </tr>\n",
       "    <tr>\n",
       "      <th>1</th>\n",
       "      <td>Giil odiechiengʼ duto nikech nyingi; gidhialo ...</td>\n",
       "      <td>In thy name shall they rejoice all the day, an...</td>\n",
       "    </tr>\n",
       "    <tr>\n",
       "      <th>2</th>\n",
       "      <td>Anakech ngʼama adwaro kecho kendo anangʼwon-ne...</td>\n",
       "      <td>Truly, I am the Oft-Forgiving, the Most Mercif...</td>\n",
       "    </tr>\n",
       "    <tr>\n",
       "      <th>3</th>\n",
       "      <td>Negie kaka luoro dwaro negogi, nikech Nyasaye ...</td>\n",
       "      <td>But they will be overwhelmed with dread, for G...</td>\n",
       "    </tr>\n",
       "    <tr>\n",
       "      <th>4</th>\n",
       "      <td>kama gichokoree (Jonjore).</td>\n",
       "      <td>and gathered at one place.</td>\n",
       "    </tr>\n",
       "    <tr>\n",
       "      <th>...</th>\n",
       "      <td>...</td>\n",
       "      <td>...</td>\n",
       "    </tr>\n",
       "    <tr>\n",
       "      <th>1407</th>\n",
       "      <td>Kar timo kamano, to okete ewi rachungi taya, m...</td>\n",
       "      <td>Instead, he puts it on a lamp stand so that th...</td>\n",
       "    </tr>\n",
       "    <tr>\n",
       "      <th>1408</th>\n",
       "      <td>Godi ducu gibimukogi gireto woko piny, pe gibi...</td>\n",
       "      <td>If they escape into the mountains, it will be ...</td>\n",
       "    </tr>\n",
       "    <tr>\n",
       "      <th>1409</th>\n",
       "      <td>Lubanga onongo omiyo lungolkop me telo jo Icra...</td>\n",
       "      <td>God had given the Israelites judges to lead th...</td>\n",
       "    </tr>\n",
       "    <tr>\n",
       "      <th>1410</th>\n",
       "      <td>Gima Wuoro manyo kuom joma lame gadier ok en k...</td>\n",
       "      <td>This is the worship which the Father seeks; th...</td>\n",
       "    </tr>\n",
       "    <tr>\n",
       "      <th>1411</th>\n",
       "      <td>mac mager tye ka waŋ i nyime,</td>\n",
       "      <td>And is a fire before him.</td>\n",
       "    </tr>\n",
       "  </tbody>\n",
       "</table>\n",
       "<p>1412 rows × 2 columns</p>\n",
       "</div>"
      ],
      "text/plain": [
       "                                            Luo Content  \\\n",
       "0                              Jaode niluongo ni Maaka,   \n",
       "1     Giil odiechiengʼ duto nikech nyingi; gidhialo ...   \n",
       "2     Anakech ngʼama adwaro kecho kendo anangʼwon-ne...   \n",
       "3     Negie kaka luoro dwaro negogi, nikech Nyasaye ...   \n",
       "4                            kama gichokoree (Jonjore).   \n",
       "...                                                 ...   \n",
       "1407  Kar timo kamano, to okete ewi rachungi taya, m...   \n",
       "1408  Godi ducu gibimukogi gireto woko piny, pe gibi...   \n",
       "1409  Lubanga onongo omiyo lungolkop me telo jo Icra...   \n",
       "1410  Gima Wuoro manyo kuom joma lame gadier ok en k...   \n",
       "1411                      mac mager tye ka waŋ i nyime,   \n",
       "\n",
       "                                        English Content  \n",
       "0                And the name of his wife [was] Maacah.  \n",
       "1     In thy name shall they rejoice all the day, an...  \n",
       "2     Truly, I am the Oft-Forgiving, the Most Mercif...  \n",
       "3     But they will be overwhelmed with dread, for G...  \n",
       "4                            and gathered at one place.  \n",
       "...                                                 ...  \n",
       "1407  Instead, he puts it on a lamp stand so that th...  \n",
       "1408  If they escape into the mountains, it will be ...  \n",
       "1409  God had given the Israelites judges to lead th...  \n",
       "1410  This is the worship which the Father seeks; th...  \n",
       "1411                          And is a fire before him.  \n",
       "\n",
       "[1412 rows x 2 columns]"
      ]
     },
     "metadata": {},
     "output_type": "display_data"
    }
   ],
   "source": [
    "total_rows = len(df)\n",
    "chunk_size = total_rows // 2000\n",
    "\n",
    "chunks = [df.iloc[i * chunk_size:(i + 1) * chunk_size] for i in range(100)]\n",
    "\n",
    "# Name the chunk were to use\n",
    "working = chunks[0]\n",
    "\n",
    "display(working)"
   ]
  },
  {
   "cell_type": "code",
   "execution_count": 57,
   "metadata": {},
   "outputs": [
    {
     "data": {
      "text/plain": [
       "{'input_ids': tensor([[19414,    16,  6288,  ..., 52235, 52235, 52235],\n",
       "        [ 1701,  6071,   826,  ..., 52235, 52235, 52235],\n",
       "        [39655,    38, 18178,  ..., 52235, 52235, 52235],\n",
       "        ...,\n",
       "        [ 3147,    49, 20416,  ..., 52235, 52235, 52235],\n",
       "        [  101,   181, 19467,  ..., 52235, 52235, 52235],\n",
       "        [  277,   163,  1211,  ..., 52235, 52235, 52235]]), 'attention_mask': tensor([[1, 1, 1,  ..., 0, 0, 0],\n",
       "        [1, 1, 1,  ..., 0, 0, 0],\n",
       "        [1, 1, 1,  ..., 0, 0, 0],\n",
       "        ...,\n",
       "        [1, 1, 1,  ..., 0, 0, 0],\n",
       "        [1, 1, 1,  ..., 0, 0, 0],\n",
       "        [1, 1, 1,  ..., 0, 0, 0]]), 'labels': tensor([[  414,     5,   420,  ..., 52235, 52235, 52235],\n",
       "        [  134,  6347,   650,  ..., 52235, 52235, 52235],\n",
       "        [ 7400,     3,    47,  ..., 52235, 52235, 52235],\n",
       "        ...,\n",
       "        [  836,    12,     4,  ..., 52235, 52235, 52235],\n",
       "        [  414,  1155,   656,  ..., 52235, 52235, 52235],\n",
       "        [  277,   430,    45,  ..., 52235, 52235, 52235]])}"
      ]
     },
     "metadata": {},
     "output_type": "display_data"
    }
   ],
   "source": [
    "# Initialize the MarianMT tokenizer\n",
    "tokenizer = MarianTokenizer.from_pretrained(\"Helsinki-NLP/opus-mt-luo-en\")\n",
    "\n",
    "# Tokenize the data with padding and truncation\n",
    "tokenized_data = tokenizer(\n",
    "    working['Luo Content'].tolist(),\n",
    "    text_target=working['English Content'].tolist(),\n",
    "    padding=True,\n",
    "    truncation=True,\n",
    "    return_tensors=\"pt\"\n",
    ")\n",
    "display(tokenized_data)"
   ]
  },
  {
   "cell_type": "code",
   "execution_count": 58,
   "metadata": {},
   "outputs": [],
   "source": [
    "\n",
    "# Define your dataset class\n",
    "class CustomDataset(Dataset):\n",
    "    def __init__(self, tokenized_data):\n",
    "        self.tokenized_data = tokenized_data\n",
    "\n",
    "    def __len__(self):\n",
    "        return len(self.tokenized_data[\"input_ids\"])\n",
    "\n",
    "    def __getitem__(self, idx):\n",
    "        return {\n",
    "            \"input_ids\": self.tokenized_data[\"input_ids\"][idx],\n",
    "            \"attention_mask\": self.tokenized_data[\"attention_mask\"][idx],\n",
    "            \"labels\": self.tokenized_data[\"labels\"][idx],\n",
    "        }"
   ]
  },
  {
   "cell_type": "code",
   "execution_count": 59,
   "metadata": {},
   "outputs": [
    {
     "name": "stdout",
     "output_type": "stream",
     "text": [
      "Epoch 1: Average Loss - 2.944636896252632\n",
      "Epoch 2: Average Loss - 0.9944823041558266\n",
      "Epoch 3: Average Loss - 0.6317375559359789\n",
      "Epoch 4: Average Loss - 0.44924096539616587\n",
      "Epoch 5: Average Loss - 0.3311813708394766\n"
     ]
    }
   ],
   "source": [
    "# Define your dataset using the tokenized data\n",
    "dataset = CustomDataset(tokenized_data)\n",
    "\n",
    "# Initialize the MarianMT model\n",
    "model = MarianMTModel.from_pretrained(\"Helsinki-NLP/opus-mt-luo-en\")\n",
    "\n",
    "# Define the training parameters\n",
    "learning_rate = 1e-4\n",
    "optimizer = torch.optim.AdamW(model.parameters(), lr=learning_rate)\n",
    "epochs = 5\n",
    "\n",
    "# Define the DataLoader for training\n",
    "train_loader = DataLoader(dataset, batch_size=8, shuffle=True)\n",
    "\n",
    "# Define the training loop\n",
    "for epoch in range(epochs):\n",
    "    model.train()\n",
    "    total_loss = 0\n",
    "    for batch in train_loader:\n",
    "        optimizer.zero_grad()\n",
    "        outputs = model(**batch)\n",
    "        loss = outputs.loss\n",
    "        loss.backward()\n",
    "        optimizer.step()\n",
    "        total_loss += loss.item()\n",
    "    average_loss = total_loss / len(train_loader)\n",
    "    print(f\"Epoch {epoch+1}: Average Loss - {average_loss}\")\n"
   ]
  },
  {
   "cell_type": "code",
   "execution_count": 60,
   "metadata": {},
   "outputs": [
    {
     "name": "stdout",
     "output_type": "stream",
     "text": [
      "Input Sentence (Luo):  gichokoree\n",
      "Translated Sentence (English): and gathered at the meeting\n"
     ]
    }
   ],
   "source": [
    "# Check the model's translation\n",
    "input_sentence = \" Anakech\"  \n",
    "tokenized_input = tokenizer(input_sentence, return_tensors=\"pt\")\n",
    "with torch.no_grad():\n",
    "    model.eval()\n",
    "    output = model.generate(**tokenized_input, max_length=50)\n",
    "translated_sentence = tokenizer.decode(output[0], skip_special_tokens=True)\n",
    "print(f\"Input Sentence (Luo): {input_sentence}\")\n",
    "print(f\"Translated Sentence (English): {translated_sentence}\")"
   ]
  },
  {
   "cell_type": "code",
   "execution_count": 61,
   "metadata": {},
   "outputs": [
    {
     "name": "stderr",
     "output_type": "stream",
     "text": [
      "Some non-default generation parameters are set in the model config. These should go into a GenerationConfig file (https://huggingface.co/docs/transformers/generation_strategies#save-a-custom-decoding-strategy-with-your-model) instead. This warning will be raised to an exception in v4.41.\n",
      "Non-default generation parameters: {'max_length': 512, 'num_beams': 6, 'bad_words_ids': [[52235]], 'forced_eos_token_id': 0}\n"
     ]
    }
   ],
   "source": [
    "import os\n",
    "\n",
    "# Get the current working directory\n",
    "current_directory = os.getcwd()\n",
    "\n",
    "# Define the path to save the model\n",
    "save_path = os.path.join(current_directory, \"Luo-Eng-Translation-Model\")\n",
    "\n",
    "# Save the trained model\n",
    "model.save_pretrained(save_path)\n"
   ]
  },
  {
   "cell_type": "code",
   "execution_count": null,
   "metadata": {},
   "outputs": [],
   "source": []
  }
 ],
 "metadata": {
  "kernelspec": {
   "display_name": "Python 3",
   "language": "python",
   "name": "python3"
  },
  "language_info": {
   "codemirror_mode": {
    "name": "ipython",
    "version": 3
   },
   "file_extension": ".py",
   "mimetype": "text/x-python",
   "name": "python",
   "nbconvert_exporter": "python",
   "pygments_lexer": "ipython3",
   "version": "3.8.10"
  }
 },
 "nbformat": 4,
 "nbformat_minor": 2
}
